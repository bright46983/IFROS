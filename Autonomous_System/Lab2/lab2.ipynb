{
 "cells": [
  {
   "cell_type": "markdown",
   "metadata": {},
   "source": [
    "# Lab 2 : Visibility Graphs\n",
    "---"
   ]
  },
  {
   "cell_type": "markdown",
   "metadata": {},
   "source": [
    "# Import Dependencies"
   ]
  },
  {
   "cell_type": "code",
   "execution_count": 66,
   "metadata": {},
   "outputs": [],
   "source": [
    "from matplotlib import pyplot as plt\n",
    "from matplotlib import path\n",
    "import numpy as np\n",
    "import sys\n",
    "import csv\n",
    "import math"
   ]
  },
  {
   "cell_type": "markdown",
   "metadata": {},
   "source": [
    "## Point Class"
   ]
  },
  {
   "cell_type": "code",
   "execution_count": 67,
   "metadata": {},
   "outputs": [],
   "source": [
    "class Point:\n",
    "    def __init__(self, x=0, y=0):\n",
    "        self.x = x\n",
    "        self.y = y\n",
    "    \n",
    "    def dist(self, p):\n",
    "        # Distance between point self and point p\n",
    "        return math.sqrt((self.x - p.x)**2 + (self.y - p.y)**2)\n",
    "    \n",
    "    def numpy(self):\n",
    "        # return the point (x, y) as a numpy array\n",
    "        return np.array([self.x, self.y])\n",
    "        \n",
    "    def dist_line(self, l):\n",
    "        # return the distance between point self an line l of type Segment.\n",
    "        return np.linalg.norm(np.cross(l.p2.numpy() - l.p1.numpy(), l.p1.numpy() - self.numpy())) / np.linalg.norm(l.p2.numpy() - l.p1.numpy())\n",
    "\n",
    "    def __str__(self):\n",
    "        # returns point self as a string\n",
    "        return \"({}, {})\".format(np.round(self.x, 2), np.round(self.y, 2))\n",
    "\n",
    "    def dot(self, p):\n",
    "        # Dot product\n",
    "        return self.x * p.x + self.y*p.y\n",
    "\n",
    "    def length(self):\n",
    "        # returns modulus of point self\n",
    "        return math.sqrt(self.x**2 + self.y**2)\n",
    "\n",
    "    def vector(self, p):\n",
    "        # creates a vector of type Point between point self and point p\n",
    "        return Point(p.x - self.x, p.y - self.y)\n",
    "\n",
    "    def unit(self):\n",
    "        # makes the point self unitary if possible\n",
    "        mag = self.length()\n",
    "        if mag > 0:\n",
    "            return Point(self.x/mag, self.y/mag)\n",
    "        else:\n",
    "            return Point(0, 0)\n",
    "\n",
    "    def scale(self, sc):\n",
    "        # multiplies point self by scalar sc\n",
    "        return Point(self.x * sc, self.y * sc)\n",
    "\n",
    "    def __add__(self, p):\n",
    "        # add point self and point p component by component\n",
    "        return Point(self.x + p.x, self.y + p.y)\n",
    "\n",
    "    def __sub__(self, p):\n",
    "        # substracts point self and point p component by component\n",
    "        return Point(self.x - p.x, self.y - p.y)\n",
    "\n",
    "    def __truediv__(self, s):\n",
    "        # divides point self by scalar s\n",
    "        return Point(self.x / s, self.y / s)\n",
    "    \n",
    "    def __floordiv__(self, s):\n",
    "        # integer division of point self by scalar s\n",
    "        return Point(int(self.x / s), int(self.y / s))\n",
    "    \n",
    "    def __mul__(self, s):\n",
    "        return Point(self.x * s, self.y * s)\n",
    "    \n",
    "    def __rmul__(self, s):\n",
    "        return self.__mul__(s)\n",
    "    \n",
    "    def __eq__(self, __o: object) -> bool:\n",
    "        if abs(self.x - __o.x) < 0.0001 and abs(self.y - __o.y) < 0.0001:\n",
    "            return True\n",
    "        return False \n",
    "\n",
    "    def ccw(self, A, B, C):\n",
    "        return (C.y - A.y) * (B.x - A.x) >= (B.y - A.y) * (C.x - A.x)\n",
    "\n",
    "    def det(self, a, b):\n",
    "        return a[0] * b[1] - a[1] * b[0]\n",
    "\n"
   ]
  },
  {
   "cell_type": "markdown",
   "metadata": {},
   "source": [
    "# Segment Class"
   ]
  },
  {
   "cell_type": "code",
   "execution_count": 68,
   "metadata": {},
   "outputs": [],
   "source": [
    "class Segment:\n",
    "    def __init__(self, p1=Point(), p2=Point()):\n",
    "        # A segment is defined by two Point objects\n",
    "        self.p1 = p1\n",
    "        self.p2 = p2\n",
    "\n",
    "    @classmethod\n",
    "    def point_angle_length(cls, p1=Point(), angle=0, length=1):\n",
    "        # A segment can be initialized with a Point object, an angle, and a segment length.\n",
    "        x2 = p1.x + math.cos(angle) * length\n",
    "        y2 = p1.y + math.sin(angle) * length\n",
    "        return cls(p1, Point(x2, y2))\n",
    "        \n",
    "    def intersect(self, s):\n",
    "        # Return true if Segment self and Segment s intersect\n",
    "        if self.ccw(self.p1, s.p1, s.p2) != self.ccw(self.p2, s.p1, s.p2) and self.ccw(self.p1, self.p2, s.p1) != self.ccw(self.p1, self.p2, s.p2):\n",
    "            p = self.intersection_point(s)\n",
    "            if p == self.p1 or p == self.p2:\n",
    "                return False, None\n",
    "            else:\n",
    "                return True, p\n",
    "        else:\n",
    "            return False, None\n",
    "\n",
    "    def intersection_point(self, line):\n",
    "        # Returns the point in which line Segment self and line Segment s intersect\n",
    "        xdiff = (self.p1.x - self.p2.x, line.p1.x - line.p2.x)\n",
    "        ydiff = (self.p1.y - self.p2.y, line.p1.y - line.p2.y)\n",
    "\n",
    "        div = self.det(xdiff, ydiff)\n",
    "        if div == 0:\n",
    "            print(\"Something went wrong!\")\n",
    "            return None\n",
    "\n",
    "        d = (self.det((self.p1.x, self.p1.y), (self.p2.x, self.p2.y)), self.det((line.p1.x, line.p1.y), (line.p2.x, line.p2.y)))\n",
    "        x = self.det(d, xdiff) / div\n",
    "        y = self.det(d, ydiff) / div\n",
    "        return Point(x, y)\n",
    "    \n",
    "    def __str__(self):\n",
    "        return \"[{}, {}]\".format(self.p1, self.p2)\n",
    "    \n",
    "    def ccw(self,A, B, C):\n",
    "        return (C.y - A.y) * (B.x - A.x) >= (B.y - A.y) * (C.x - A.x)\n",
    "\n",
    "    def det(self,a, b):\n",
    "        return a[0] * b[1] - a[1] * b[0]\n"
   ]
  },
  {
   "cell_type": "markdown",
   "metadata": {},
   "source": [
    "# RPS Class"
   ]
  },
  {
   "cell_type": "code",
   "execution_count": 69,
   "metadata": {},
   "outputs": [],
   "source": [
    "class RotationalPlaneSweep:\n",
    "    def __init__(self) -> None:\n",
    "        pass\n",
    "\n",
    "    def rotational_plane_sweep(self, vertexs, goal):\n",
    "        for vertex in vertexs[0:-1]: # Iterate through every vertex except goal\n",
    "            w = Segment(vertex, Point(goal.x, vertex.y))# define w line\n",
    "            sorted_vetex  =  [] # sorted vertex according to alpha \n",
    "            for v in vertexs: # calculate alpha for each vertex \n",
    "                \n",
    "            alpha_list = []\n",
    "            s_list  = []\n",
    "        return output_connection"
   ]
  },
  {
   "cell_type": "markdown",
   "metadata": {},
   "source": [
    "# Brute Force Class"
   ]
  },
  {
   "cell_type": "code",
   "execution_count": 70,
   "metadata": {},
   "outputs": [],
   "source": [
    "class BruteForce:\n",
    "    def __init__(self) -> None:\n",
    "        pass"
   ]
  },
  {
   "cell_type": "markdown",
   "metadata": {},
   "source": [
    "# Main Code \n",
    "---"
   ]
  },
  {
   "cell_type": "markdown",
   "metadata": {},
   "source": [
    "## Prepare data"
   ]
  },
  {
   "cell_type": "markdown",
   "metadata": {},
   "source": [
    "- load environment from csv file"
   ]
  },
  {
   "cell_type": "code",
   "execution_count": 71,
   "metadata": {},
   "outputs": [
    {
     "name": "stdout",
     "output_type": "stream",
     "text": [
      "['0', ' 0.6', ' 8']\n",
      "['1', ' 3', ' 8.2']\n",
      "['1', ' 4', ' 6.3']\n",
      "['1', ' 2', ' 5.4']\n",
      "['2', ' 10.3', ' 1.5']\n",
      "[<__main__.Segment object at 0x7f560be18d30>, <__main__.Segment object at 0x7f560dfe2af0>, <__main__.Segment object at 0x7f560bf51340>]\n"
     ]
    }
   ],
   "source": [
    "\n",
    "with open(\"./data/env_0.csv\", 'r') as file:\n",
    "    csvreader = csv.reader(file)\n",
    "    raw_data = []\n",
    "    for row in csvreader:\n",
    "        raw_data.append(row)\n",
    "    raw_data.pop(0)\n",
    "    vertexs = []\n",
    "    edges = []\n",
    "    polygons = []\n",
    "    current_polygon_idx = 0\n",
    "    polygon_edge_count = 0\n",
    "    \n",
    "    for i in range(len(raw_data)):\n",
    "        print(raw_data[i])\n",
    "        polygon_idx = float(raw_data[i][0])\n",
    "        vx,vy = float(raw_data[i][1]), float(raw_data[i][2])\n",
    "        vertexs.append(Point(vx, vy))\n",
    "        if i == 0:     # For start point\n",
    "            start = Point(vx, vy)\n",
    "            \n",
    "        elif polygon_idx == current_polygon_idx: # \n",
    "            edges.append(Segment(vertexs[i-1], vertexs[i]))\n",
    "            polygon_edge_count = polygon_edge_count + 1\n",
    "        elif polygon_edge_count != 0: # For first vertex of new polygon\n",
    "            edges.append(Segment(vertexs[i-1-polygon_edge_count], vertexs[i-1]))\n",
    "            current_polygon_idx = polygon_idx \n",
    "            polygon_edge_count  = 0\n",
    "        else:\n",
    "            current_polygon_idx = polygon_idx\n",
    "            polygon_edge_count  = 0\n",
    "\n",
    "\n",
    "    print(edges)           "
   ]
  },
  {
   "cell_type": "markdown",
   "metadata": {},
   "source": [
    "- visualize environment"
   ]
  },
  {
   "cell_type": "code",
   "execution_count": 72,
   "metadata": {},
   "outputs": [
    {
     "data": {
      "image/png": "[encoded data removed]",
      "text/plain": [
       "<Figure size 640x480 with 1 Axes>"
      ]
     },
     "metadata": {},
     "output_type": "display_data"
    }
   ],
   "source": [
    "def plot_env(vertexs, edges): \n",
    "    i = 0\n",
    "    for vertex in vertexs:\n",
    "        plt.scatter(vertex.x, vertex.y, s=100, c='red', marker='.')\n",
    "        plt.annotate(str(i), (vertex.x, vertex.y))\n",
    "        i = i+1\n",
    "    i =1\n",
    "    for edge in edges:\n",
    "        plt.plot([edge.p1.x , edge.p2.x], [edge.p1.y ,edge.p2.y], 'bo', linestyle=\"-\")\n",
    "        plt.annotate(\"E\"+str(i), ((edge.p1.x+edge.p2.x)/2, (edge.p1.y+edge.p2.y)/2))\n",
    "        i = i +1\n",
    "\n",
    "plot_env(vertexs,edges)"
   ]
  },
  {
   "cell_type": "code",
   "execution_count": null,
   "metadata": {},
   "outputs": [],
   "source": []
  }
 ],
 "metadata": {
  "kernelspec": {
   "display_name": "Python 3",
   "language": "python",
   "name": "python3"
  },
  "language_info": {
   "codemirror_mode": {
    "name": "ipython",
    "version": 3
   },
   "file_extension": ".py",
   "mimetype": "text/x-python",
   "name": "python",
   "nbconvert_exporter": "python",
   "pygments_lexer": "ipython3",
   "version": "3.8.10"
  }
 },
 "nbformat": 4,
 "nbformat_minor": 2
}
